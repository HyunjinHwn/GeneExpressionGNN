{
 "cells": [
  {
   "cell_type": "code",
   "execution_count": null,
   "metadata": {},
   "outputs": [],
   "source": [
    "import os\n",
    "import torch\n",
    "\n",
    "from mlp.mlp import MLPRegression\n",
    "from data import dataload, Dataset\n",
    "from mlp.mlp_utils import *"
   ]
  },
  {
   "cell_type": "markdown",
   "metadata": {},
   "source": [
    "## Edit here"
   ]
  },
  {
   "cell_type": "code",
   "execution_count": null,
   "metadata": {},
   "outputs": [],
   "source": [
    "# Configs\n",
    "gpu = 0\n",
    "lr = 0.001\n",
    "epochs = 1000\n",
    "select_method = 'order' # 'random, order, greedy_forward'\n",
    "select_gene_num = 970\n"
   ]
  },
  {
   "cell_type": "code",
   "execution_count": null,
   "metadata": {},
   "outputs": [],
   "source": [
    "# Please download the dataset and place it in {datapath}. The download link can be found in the README.md file.\n",
    "datapath = 'data' \n",
    "config_name = f'{select_method}{select_gene_num}_lr{lr}'"
   ]
  },
  {
   "cell_type": "markdown",
   "metadata": {},
   "source": [
    "## Dataset Load"
   ]
  },
  {
   "cell_type": "code",
   "execution_count": null,
   "metadata": {},
   "outputs": [],
   "source": [
    "# we recommend training the model on GPUs\n",
    "os.environ[\"CUDA_VISIBLE_DEVICES\"]= str(gpu)"
   ]
  },
  {
   "cell_type": "code",
   "execution_count": null,
   "metadata": {},
   "outputs": [],
   "source": [
    "# load data\n",
    "l1000, rnaseq, _, RNAseq_ids_in_l1000, RNAseq_ids_nin_l1000 = dataload(root=datapath)\n",
    "data  = Dataset(l1000, rnaseq, RNAseq_ids_in_l1000, select_gene_num, select_method=select_method)\n",
    "print(f'Input: {data.X.shape[0]} * ({len(data.labeled_gene_ids)} out of {data.X.shape[1]}')\n",
    "print(f'Output: {data.Y.shape}')"
   ]
  },
  {
   "cell_type": "markdown",
   "metadata": {},
   "source": [
    "## train the MLP model"
   ]
  },
  {
   "cell_type": "code",
   "execution_count": null,
   "metadata": {},
   "outputs": [],
   "source": [
    "\n",
    "os.makedirs(f'checkpoints/mlp/', exist_ok=True)\n",
    "os.makedirs(f'prediction/mlp/', exist_ok=True)\n",
    "loss_func = torch.nn.L1Loss()\n",
    "model = MLPRegression(dim_in=data.select_gene_num, dim_out=data.Y.shape[1]).cuda()\n",
    "best_model = train(model, data, config_name, loss_func, epochs=epochs, lr=lr, wd=1e-6)\n"
   ]
  },
  {
   "cell_type": "code",
   "execution_count": null,
   "metadata": {},
   "outputs": [],
   "source": []
  }
 ],
 "metadata": {
  "kernelspec": {
   "display_name": "base",
   "language": "python",
   "name": "python3"
  },
  "language_info": {
   "codemirror_mode": {
    "name": "ipython",
    "version": 3
   },
   "file_extension": ".py",
   "mimetype": "text/x-python",
   "name": "python",
   "nbconvert_exporter": "python",
   "pygments_lexer": "ipython3",
   "version": "3.10.9"
  }
 },
 "nbformat": 4,
 "nbformat_minor": 2
}
