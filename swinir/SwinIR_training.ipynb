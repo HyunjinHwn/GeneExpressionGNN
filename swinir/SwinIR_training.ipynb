{
 "cells": [
  {
   "cell_type": "markdown",
   "metadata": {
    "id": "zdJOIjQPrXiG"
   },
   "source": [
    "SwinIR training code\n",
    "\n",
    "    - Check if the runtime type is set to GPU (A100, L4, or T4)"
   ]
  },
  {
   "cell_type": "code",
   "execution_count": null,
   "metadata": {
    "colab": {
     "base_uri": "https://localhost:8080/"
    },
    "executionInfo": {
     "elapsed": 12310,
     "status": "ok",
     "timestamp": 1733734517891,
     "user": {
      "displayName": "Baek Laboratory",
      "userId": "07309149725431453632"
     },
     "user_tz": -540
    },
    "id": "1-5yZoPMHxIW",
    "outputId": "aa8107ce-7a29-49d6-b6ef-c2267692a513"
   },
   "outputs": [],
   "source": [
    "!pip install -r KAIR_L1000/requirement.txt --quiet # install required modules"
   ]
  },
  {
   "cell_type": "code",
   "execution_count": null,
   "metadata": {
    "colab": {
     "base_uri": "https://localhost:8080/"
    },
    "executionInfo": {
     "elapsed": 3156344,
     "status": "ok",
     "timestamp": 1733737915244,
     "user": {
      "displayName": "Baek Laboratory",
      "userId": "07309149725431453632"
     },
     "user_tz": -540
    },
    "id": "OlrpaP1AKB5J",
    "outputId": "7136fcb2-78d6-44a3-c054-ddc65bd73941"
   },
   "outputs": [],
   "source": [
    "!torchrun --nproc_per_node=1 --master_port=1234 KAIR_L1000/main_train_psnr_no_outputs.py --opt option.json  --dist False\n",
    "# This will save the models to the path designated in the option.json file.\n",
    "# If a runtime is disconnected and you want to further train the model, just run the same code from the top.\n",
    "# the train code will look for the most recent checkpoint and continue training.\n",
    "# Note that while the number of iteration is kept, number of epochs is not loaded when running the code again."
   ]
  }
 ],
 "metadata": {
  "accelerator": "GPU",
  "colab": {
   "authorship_tag": "ABX9TyMnn73ybjExg1PkOKTAicUV",
   "gpuType": "A100",
   "machine_shape": "hm",
   "mount_file_id": "12knM-hcfWqmhPExiOXcA_MfyrSos-q9z",
   "provenance": [
    {
     "file_id": "1HrOX_iVsezg3cy2Ej2u31Z-ettAjvfeO",
     "timestamp": 1717121917920
    }
   ]
  },
  "kernelspec": {
   "display_name": "Python 3",
   "name": "python3"
  },
  "language_info": {
   "name": "python"
  }
 },
 "nbformat": 4,
 "nbformat_minor": 0
}
