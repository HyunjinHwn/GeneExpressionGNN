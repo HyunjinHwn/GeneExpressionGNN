{
 "cells": [
  {
   "cell_type": "code",
   "execution_count": null,
   "metadata": {},
   "outputs": [],
   "source": [
    "# Edit here\n",
    "model_name, feature_selection_method, num_landmarks = \"GNN\", \"order\", 970\n",
    "prediction_file ='GNN_order_970.pt'"
   ]
  },
  {
   "cell_type": "code",
   "execution_count": null,
   "metadata": {},
   "outputs": [],
   "source": [
    "from evaluation.metrics import performance_all\n",
    "output = performance_all(prediction_file, model_name, feature_selection_method, num_landmarks, root='prediction/')\n",
    "output"
   ]
  },
  {
   "cell_type": "code",
   "execution_count": null,
   "metadata": {},
   "outputs": [],
   "source": [
    "import pandas as pd\n",
    "columns = [\"config\", \"model\", \"feature selection\", \"# landmarks\", \n",
    "            \"Error_mean\",\"Error_stdev\",\"SCC_mean\",\"SCC_stdev\",\n",
    "            \"PCC_mean\",\"PCC_stdev\", \"r95\", \"r99\",\n",
    "            \"num_AIG\",\"rank_corr_AIG_mean\",\"rank_corr_AIG_stdev\",\n",
    "            \"num_BING\",\"rank_corr_BING_mean\",\"rank_corr_BING_stdev\"]\n",
    "pd.DataFrame(output).to_csv('GNN_order_970_performance.csv', index=False, header=columns)\n"
   ]
  }
 ],
 "metadata": {
  "kernelspec": {
   "display_name": "base",
   "language": "python",
   "name": "python3"
  },
  "language_info": {
   "codemirror_mode": {
    "name": "ipython",
    "version": 3
   },
   "file_extension": ".py",
   "mimetype": "text/x-python",
   "name": "python",
   "nbconvert_exporter": "python",
   "pygments_lexer": "ipython3",
   "version": "3.10.9"
  }
 },
 "nbformat": 4,
 "nbformat_minor": 2
}
